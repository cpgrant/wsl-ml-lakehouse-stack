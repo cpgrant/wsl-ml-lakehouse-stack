{
 "cells": [
  {
   "cell_type": "markdown",
   "id": "a21d116f",
   "metadata": {},
   "source": [
    "# ────────────────────────────────────────────────────────────────────────────────\n",
    "# /workspace/notebooks/quickstart.ipynb (create your own Jupyter notebook)\n",
    "# ────────────────────────────────────────────────────────────────────────────────\n",
    "# Example PySpark snippet you can paste into a Jupyter cell (pydev container):\n",
    "#\n",
    "# from pyspark.sql import SparkSession\n",
    "# spark = (SparkSession.builder\n",
    "#          .appName(\"DeltaQuickstart\")\n",
    "#          .config(\"spark.sql.extensions\",\"io.delta.sql.DeltaSparkSessionExtension\")\n",
    "#          .config(\"spark.sql.catalog.spark_catalog\",\"org.apache.spark.sql.delta.catalog.DeltaCatalog\")\n",
    "#          .config(\"spark.hadoop.fs.s3a.endpoint\",\"http://minio:9000\")\n",
    "#          .config(\"spark.hadoop.fs.s3a.path.style.access\",\"true\")\n",
    "#          .getOrCreate())\n",
    "# spark.range(0,10).write.format(\"delta\").mode(\"overwrite\").save(\"s3a://data/delta/demo\")\n",
    "# spark.read.format(\"delta\").load(\"s3a://data/delta/demo\").show()\n",
    "#\n",
    "# # Parquet example:\n",
    "# spark.range(0,10).write.mode(\"overwrite\").parquet(\"s3a://data/parquet/demo\")\n",
    "# spark.read.parquet(\"s3a://data/parquet/demo\").show()\n"
   ]
  },
  {
   "cell_type": "code",
   "execution_count": null,
   "id": "470f294d",
   "metadata": {},
   "outputs": [],
   "source": [
    "from pyspark.sql import SparkSession\n",
    "spark = (SparkSession.builder\n",
    "         .appName(\"DeltaQuickstart\")\n",
    "         .config(\"spark.sql.extensions\",\"io.delta.sql.DeltaSparkSessionExtension\")\n",
    "         .config(\"spark.sql.catalog.spark_catalog\",\"org.apache.spark.sql.delta.catalog.DeltaCatalog\")\n",
    "         .config(\"spark.hadoop.fs.s3a.endpoint\",\"http://minio:9000\")\n",
    "         .config(\"spark.hadoop.fs.s3a.path.style.access\",\"true\")\n",
    "         .getOrCreate())\n"
   ]
  },
  {
   "cell_type": "code",
   "execution_count": null,
   "id": "e329225b",
   "metadata": {},
   "outputs": [],
   "source": [
    "spark.range(0,10).write.format(\"delta\").mode(\"overwrite\").save(\"s3a://data/delta/demo\")\n"
   ]
  },
  {
   "cell_type": "code",
   "execution_count": null,
   "id": "8c1b2398",
   "metadata": {},
   "outputs": [],
   "source": [
    "spark.read.format(\"delta\").load(\"s3a://data/delta/demo\").show()\n"
   ]
  },
  {
   "cell_type": "code",
   "execution_count": null,
   "id": "d8be5706",
   "metadata": {},
   "outputs": [],
   "source": [
    "# Parquet example:\n",
    "spark.range(0,10).write.mode(\"overwrite\").parquet(\"s3a://data/parquet/demo\")\n"
   ]
  },
  {
   "cell_type": "code",
   "execution_count": null,
   "id": "58e70269",
   "metadata": {},
   "outputs": [],
   "source": [
    "spark.read.parquet(\"s3a://data/parquet/demo\").show()"
   ]
  },
  {
   "cell_type": "code",
   "execution_count": null,
   "id": "c0205bfb",
   "metadata": {},
   "outputs": [],
   "source": []
  }
 ],
 "metadata": {
  "language_info": {
   "name": "python"
  }
 },
 "nbformat": 4,
 "nbformat_minor": 5
}
